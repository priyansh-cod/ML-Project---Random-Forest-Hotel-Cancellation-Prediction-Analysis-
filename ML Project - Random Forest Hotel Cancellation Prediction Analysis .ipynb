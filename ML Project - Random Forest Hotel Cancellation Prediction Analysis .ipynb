{
 "cells": [
  {
   "cell_type": "code",
   "execution_count": 1,
   "metadata": {},
   "outputs": [],
   "source": [
    "import numpy as np\n",
    "import pandas as pd\n",
    "import matplotlib.pyplot as plt\n",
    "%matplotlib inline"
   ]
  },
  {
   "cell_type": "markdown",
   "metadata": {},
   "source": [
    "# 1)\tload the given dataset "
   ]
  },
  {
   "cell_type": "code",
   "execution_count": 4,
   "metadata": {},
   "outputs": [],
   "source": [
    "pm = pd.read_csv('D:\\PRIYANSH MAHESHWARI\\FINGERTIPS\\python project\\ML Project - Random Forest Hotel Cancellation Prediction\\ML Project - Random Forest Hotel Cancellation Prediction Analysis 16955485770.csv')"
   ]
  },
  {
   "cell_type": "code",
   "execution_count": 5,
   "metadata": {},
   "outputs": [
    {
     "data": {
      "text/html": [
       "<div>\n",
       "<style scoped>\n",
       "    .dataframe tbody tr th:only-of-type {\n",
       "        vertical-align: middle;\n",
       "    }\n",
       "\n",
       "    .dataframe tbody tr th {\n",
       "        vertical-align: top;\n",
       "    }\n",
       "\n",
       "    .dataframe thead th {\n",
       "        text-align: right;\n",
       "    }\n",
       "</style>\n",
       "<table border=\"1\" class=\"dataframe\">\n",
       "  <thead>\n",
       "    <tr style=\"text-align: right;\">\n",
       "      <th></th>\n",
       "      <th>hotel</th>\n",
       "      <th>is_canceled</th>\n",
       "      <th>lead_time</th>\n",
       "      <th>arrival_date_year</th>\n",
       "      <th>arrival_date_month</th>\n",
       "      <th>arrival_date_week_number</th>\n",
       "      <th>arrival_date_day_of_month</th>\n",
       "      <th>stays_in_weekend_nights</th>\n",
       "      <th>stays_in_week_nights</th>\n",
       "      <th>adults</th>\n",
       "      <th>...</th>\n",
       "      <th>deposit_type</th>\n",
       "      <th>agent</th>\n",
       "      <th>company</th>\n",
       "      <th>days_in_waiting_list</th>\n",
       "      <th>customer_type</th>\n",
       "      <th>adr</th>\n",
       "      <th>required_car_parking_spaces</th>\n",
       "      <th>total_of_special_requests</th>\n",
       "      <th>reservation_status</th>\n",
       "      <th>reservation_status_date</th>\n",
       "    </tr>\n",
       "  </thead>\n",
       "  <tbody>\n",
       "    <tr>\n",
       "      <th>0</th>\n",
       "      <td>Resort Hotel</td>\n",
       "      <td>0</td>\n",
       "      <td>342</td>\n",
       "      <td>2015</td>\n",
       "      <td>July</td>\n",
       "      <td>27</td>\n",
       "      <td>1</td>\n",
       "      <td>0</td>\n",
       "      <td>0</td>\n",
       "      <td>2</td>\n",
       "      <td>...</td>\n",
       "      <td>No Deposit</td>\n",
       "      <td>NaN</td>\n",
       "      <td>NaN</td>\n",
       "      <td>0</td>\n",
       "      <td>Transient</td>\n",
       "      <td>0.00</td>\n",
       "      <td>0</td>\n",
       "      <td>0</td>\n",
       "      <td>Check-Out</td>\n",
       "      <td>01/07/2015</td>\n",
       "    </tr>\n",
       "    <tr>\n",
       "      <th>1</th>\n",
       "      <td>Resort Hotel</td>\n",
       "      <td>0</td>\n",
       "      <td>737</td>\n",
       "      <td>2015</td>\n",
       "      <td>July</td>\n",
       "      <td>27</td>\n",
       "      <td>1</td>\n",
       "      <td>0</td>\n",
       "      <td>0</td>\n",
       "      <td>2</td>\n",
       "      <td>...</td>\n",
       "      <td>No Deposit</td>\n",
       "      <td>NaN</td>\n",
       "      <td>NaN</td>\n",
       "      <td>0</td>\n",
       "      <td>Transient</td>\n",
       "      <td>0.00</td>\n",
       "      <td>0</td>\n",
       "      <td>0</td>\n",
       "      <td>Check-Out</td>\n",
       "      <td>01/07/2015</td>\n",
       "    </tr>\n",
       "    <tr>\n",
       "      <th>2</th>\n",
       "      <td>Resort Hotel</td>\n",
       "      <td>0</td>\n",
       "      <td>7</td>\n",
       "      <td>2015</td>\n",
       "      <td>July</td>\n",
       "      <td>27</td>\n",
       "      <td>1</td>\n",
       "      <td>0</td>\n",
       "      <td>1</td>\n",
       "      <td>1</td>\n",
       "      <td>...</td>\n",
       "      <td>No Deposit</td>\n",
       "      <td>NaN</td>\n",
       "      <td>NaN</td>\n",
       "      <td>0</td>\n",
       "      <td>Transient</td>\n",
       "      <td>75.00</td>\n",
       "      <td>0</td>\n",
       "      <td>0</td>\n",
       "      <td>Check-Out</td>\n",
       "      <td>02/07/2015</td>\n",
       "    </tr>\n",
       "    <tr>\n",
       "      <th>3</th>\n",
       "      <td>Resort Hotel</td>\n",
       "      <td>0</td>\n",
       "      <td>13</td>\n",
       "      <td>2015</td>\n",
       "      <td>July</td>\n",
       "      <td>27</td>\n",
       "      <td>1</td>\n",
       "      <td>0</td>\n",
       "      <td>1</td>\n",
       "      <td>1</td>\n",
       "      <td>...</td>\n",
       "      <td>No Deposit</td>\n",
       "      <td>304.0</td>\n",
       "      <td>NaN</td>\n",
       "      <td>0</td>\n",
       "      <td>Transient</td>\n",
       "      <td>75.00</td>\n",
       "      <td>0</td>\n",
       "      <td>0</td>\n",
       "      <td>Check-Out</td>\n",
       "      <td>02/07/2015</td>\n",
       "    </tr>\n",
       "    <tr>\n",
       "      <th>4</th>\n",
       "      <td>Resort Hotel</td>\n",
       "      <td>0</td>\n",
       "      <td>14</td>\n",
       "      <td>2015</td>\n",
       "      <td>July</td>\n",
       "      <td>27</td>\n",
       "      <td>1</td>\n",
       "      <td>0</td>\n",
       "      <td>2</td>\n",
       "      <td>2</td>\n",
       "      <td>...</td>\n",
       "      <td>No Deposit</td>\n",
       "      <td>240.0</td>\n",
       "      <td>NaN</td>\n",
       "      <td>0</td>\n",
       "      <td>Transient</td>\n",
       "      <td>98.00</td>\n",
       "      <td>0</td>\n",
       "      <td>1</td>\n",
       "      <td>Check-Out</td>\n",
       "      <td>03/07/2015</td>\n",
       "    </tr>\n",
       "    <tr>\n",
       "      <th>...</th>\n",
       "      <td>...</td>\n",
       "      <td>...</td>\n",
       "      <td>...</td>\n",
       "      <td>...</td>\n",
       "      <td>...</td>\n",
       "      <td>...</td>\n",
       "      <td>...</td>\n",
       "      <td>...</td>\n",
       "      <td>...</td>\n",
       "      <td>...</td>\n",
       "      <td>...</td>\n",
       "      <td>...</td>\n",
       "      <td>...</td>\n",
       "      <td>...</td>\n",
       "      <td>...</td>\n",
       "      <td>...</td>\n",
       "      <td>...</td>\n",
       "      <td>...</td>\n",
       "      <td>...</td>\n",
       "      <td>...</td>\n",
       "      <td>...</td>\n",
       "    </tr>\n",
       "    <tr>\n",
       "      <th>119385</th>\n",
       "      <td>City Hotel</td>\n",
       "      <td>0</td>\n",
       "      <td>23</td>\n",
       "      <td>2017</td>\n",
       "      <td>August</td>\n",
       "      <td>35</td>\n",
       "      <td>30</td>\n",
       "      <td>2</td>\n",
       "      <td>5</td>\n",
       "      <td>2</td>\n",
       "      <td>...</td>\n",
       "      <td>No Deposit</td>\n",
       "      <td>394.0</td>\n",
       "      <td>NaN</td>\n",
       "      <td>0</td>\n",
       "      <td>Transient</td>\n",
       "      <td>96.14</td>\n",
       "      <td>0</td>\n",
       "      <td>0</td>\n",
       "      <td>Check-Out</td>\n",
       "      <td>06/09/2017</td>\n",
       "    </tr>\n",
       "    <tr>\n",
       "      <th>119386</th>\n",
       "      <td>City Hotel</td>\n",
       "      <td>0</td>\n",
       "      <td>102</td>\n",
       "      <td>2017</td>\n",
       "      <td>August</td>\n",
       "      <td>35</td>\n",
       "      <td>31</td>\n",
       "      <td>2</td>\n",
       "      <td>5</td>\n",
       "      <td>3</td>\n",
       "      <td>...</td>\n",
       "      <td>No Deposit</td>\n",
       "      <td>9.0</td>\n",
       "      <td>NaN</td>\n",
       "      <td>0</td>\n",
       "      <td>Transient</td>\n",
       "      <td>225.43</td>\n",
       "      <td>0</td>\n",
       "      <td>2</td>\n",
       "      <td>Check-Out</td>\n",
       "      <td>07/09/2017</td>\n",
       "    </tr>\n",
       "    <tr>\n",
       "      <th>119387</th>\n",
       "      <td>City Hotel</td>\n",
       "      <td>0</td>\n",
       "      <td>34</td>\n",
       "      <td>2017</td>\n",
       "      <td>August</td>\n",
       "      <td>35</td>\n",
       "      <td>31</td>\n",
       "      <td>2</td>\n",
       "      <td>5</td>\n",
       "      <td>2</td>\n",
       "      <td>...</td>\n",
       "      <td>No Deposit</td>\n",
       "      <td>9.0</td>\n",
       "      <td>NaN</td>\n",
       "      <td>0</td>\n",
       "      <td>Transient</td>\n",
       "      <td>157.71</td>\n",
       "      <td>0</td>\n",
       "      <td>4</td>\n",
       "      <td>Check-Out</td>\n",
       "      <td>07/09/2017</td>\n",
       "    </tr>\n",
       "    <tr>\n",
       "      <th>119388</th>\n",
       "      <td>City Hotel</td>\n",
       "      <td>0</td>\n",
       "      <td>109</td>\n",
       "      <td>2017</td>\n",
       "      <td>August</td>\n",
       "      <td>35</td>\n",
       "      <td>31</td>\n",
       "      <td>2</td>\n",
       "      <td>5</td>\n",
       "      <td>2</td>\n",
       "      <td>...</td>\n",
       "      <td>No Deposit</td>\n",
       "      <td>89.0</td>\n",
       "      <td>NaN</td>\n",
       "      <td>0</td>\n",
       "      <td>Transient</td>\n",
       "      <td>104.40</td>\n",
       "      <td>0</td>\n",
       "      <td>0</td>\n",
       "      <td>Check-Out</td>\n",
       "      <td>07/09/2017</td>\n",
       "    </tr>\n",
       "    <tr>\n",
       "      <th>119389</th>\n",
       "      <td>City Hotel</td>\n",
       "      <td>0</td>\n",
       "      <td>205</td>\n",
       "      <td>2017</td>\n",
       "      <td>August</td>\n",
       "      <td>35</td>\n",
       "      <td>29</td>\n",
       "      <td>2</td>\n",
       "      <td>7</td>\n",
       "      <td>2</td>\n",
       "      <td>...</td>\n",
       "      <td>No Deposit</td>\n",
       "      <td>9.0</td>\n",
       "      <td>NaN</td>\n",
       "      <td>0</td>\n",
       "      <td>Transient</td>\n",
       "      <td>151.20</td>\n",
       "      <td>0</td>\n",
       "      <td>2</td>\n",
       "      <td>Check-Out</td>\n",
       "      <td>07/09/2017</td>\n",
       "    </tr>\n",
       "  </tbody>\n",
       "</table>\n",
       "<p>119390 rows × 32 columns</p>\n",
       "</div>"
      ],
      "text/plain": [
       "               hotel  is_canceled  lead_time  arrival_date_year  \\\n",
       "0       Resort Hotel            0        342               2015   \n",
       "1       Resort Hotel            0        737               2015   \n",
       "2       Resort Hotel            0          7               2015   \n",
       "3       Resort Hotel            0         13               2015   \n",
       "4       Resort Hotel            0         14               2015   \n",
       "...              ...          ...        ...                ...   \n",
       "119385    City Hotel            0         23               2017   \n",
       "119386    City Hotel            0        102               2017   \n",
       "119387    City Hotel            0         34               2017   \n",
       "119388    City Hotel            0        109               2017   \n",
       "119389    City Hotel            0        205               2017   \n",
       "\n",
       "       arrival_date_month  arrival_date_week_number  \\\n",
       "0                    July                        27   \n",
       "1                    July                        27   \n",
       "2                    July                        27   \n",
       "3                    July                        27   \n",
       "4                    July                        27   \n",
       "...                   ...                       ...   \n",
       "119385             August                        35   \n",
       "119386             August                        35   \n",
       "119387             August                        35   \n",
       "119388             August                        35   \n",
       "119389             August                        35   \n",
       "\n",
       "        arrival_date_day_of_month  stays_in_weekend_nights  \\\n",
       "0                               1                        0   \n",
       "1                               1                        0   \n",
       "2                               1                        0   \n",
       "3                               1                        0   \n",
       "4                               1                        0   \n",
       "...                           ...                      ...   \n",
       "119385                         30                        2   \n",
       "119386                         31                        2   \n",
       "119387                         31                        2   \n",
       "119388                         31                        2   \n",
       "119389                         29                        2   \n",
       "\n",
       "        stays_in_week_nights  adults  ...  deposit_type  agent company  \\\n",
       "0                          0       2  ...    No Deposit    NaN     NaN   \n",
       "1                          0       2  ...    No Deposit    NaN     NaN   \n",
       "2                          1       1  ...    No Deposit    NaN     NaN   \n",
       "3                          1       1  ...    No Deposit  304.0     NaN   \n",
       "4                          2       2  ...    No Deposit  240.0     NaN   \n",
       "...                      ...     ...  ...           ...    ...     ...   \n",
       "119385                     5       2  ...    No Deposit  394.0     NaN   \n",
       "119386                     5       3  ...    No Deposit    9.0     NaN   \n",
       "119387                     5       2  ...    No Deposit    9.0     NaN   \n",
       "119388                     5       2  ...    No Deposit   89.0     NaN   \n",
       "119389                     7       2  ...    No Deposit    9.0     NaN   \n",
       "\n",
       "       days_in_waiting_list customer_type     adr  \\\n",
       "0                         0     Transient    0.00   \n",
       "1                         0     Transient    0.00   \n",
       "2                         0     Transient   75.00   \n",
       "3                         0     Transient   75.00   \n",
       "4                         0     Transient   98.00   \n",
       "...                     ...           ...     ...   \n",
       "119385                    0     Transient   96.14   \n",
       "119386                    0     Transient  225.43   \n",
       "119387                    0     Transient  157.71   \n",
       "119388                    0     Transient  104.40   \n",
       "119389                    0     Transient  151.20   \n",
       "\n",
       "        required_car_parking_spaces  total_of_special_requests  \\\n",
       "0                                 0                          0   \n",
       "1                                 0                          0   \n",
       "2                                 0                          0   \n",
       "3                                 0                          0   \n",
       "4                                 0                          1   \n",
       "...                             ...                        ...   \n",
       "119385                            0                          0   \n",
       "119386                            0                          2   \n",
       "119387                            0                          4   \n",
       "119388                            0                          0   \n",
       "119389                            0                          2   \n",
       "\n",
       "        reservation_status reservation_status_date  \n",
       "0                Check-Out              01/07/2015  \n",
       "1                Check-Out              01/07/2015  \n",
       "2                Check-Out              02/07/2015  \n",
       "3                Check-Out              02/07/2015  \n",
       "4                Check-Out              03/07/2015  \n",
       "...                    ...                     ...  \n",
       "119385           Check-Out              06/09/2017  \n",
       "119386           Check-Out              07/09/2017  \n",
       "119387           Check-Out              07/09/2017  \n",
       "119388           Check-Out              07/09/2017  \n",
       "119389           Check-Out              07/09/2017  \n",
       "\n",
       "[119390 rows x 32 columns]"
      ]
     },
     "execution_count": 5,
     "metadata": {},
     "output_type": "execute_result"
    }
   ],
   "source": [
    "pm"
   ]
  },
  {
   "cell_type": "code",
   "execution_count": 6,
   "metadata": {},
   "outputs": [
    {
     "data": {
      "text/html": [
       "<div>\n",
       "<style scoped>\n",
       "    .dataframe tbody tr th:only-of-type {\n",
       "        vertical-align: middle;\n",
       "    }\n",
       "\n",
       "    .dataframe tbody tr th {\n",
       "        vertical-align: top;\n",
       "    }\n",
       "\n",
       "    .dataframe thead th {\n",
       "        text-align: right;\n",
       "    }\n",
       "</style>\n",
       "<table border=\"1\" class=\"dataframe\">\n",
       "  <thead>\n",
       "    <tr style=\"text-align: right;\">\n",
       "      <th></th>\n",
       "      <th>hotel</th>\n",
       "      <th>is_canceled</th>\n",
       "      <th>lead_time</th>\n",
       "      <th>arrival_date_year</th>\n",
       "      <th>arrival_date_month</th>\n",
       "      <th>arrival_date_week_number</th>\n",
       "      <th>arrival_date_day_of_month</th>\n",
       "      <th>stays_in_weekend_nights</th>\n",
       "      <th>stays_in_week_nights</th>\n",
       "      <th>adults</th>\n",
       "      <th>...</th>\n",
       "      <th>deposit_type</th>\n",
       "      <th>agent</th>\n",
       "      <th>company</th>\n",
       "      <th>days_in_waiting_list</th>\n",
       "      <th>customer_type</th>\n",
       "      <th>adr</th>\n",
       "      <th>required_car_parking_spaces</th>\n",
       "      <th>total_of_special_requests</th>\n",
       "      <th>reservation_status</th>\n",
       "      <th>reservation_status_date</th>\n",
       "    </tr>\n",
       "  </thead>\n",
       "  <tbody>\n",
       "    <tr>\n",
       "      <th>0</th>\n",
       "      <td>Resort Hotel</td>\n",
       "      <td>0</td>\n",
       "      <td>342</td>\n",
       "      <td>2015</td>\n",
       "      <td>July</td>\n",
       "      <td>27</td>\n",
       "      <td>1</td>\n",
       "      <td>0</td>\n",
       "      <td>0</td>\n",
       "      <td>2</td>\n",
       "      <td>...</td>\n",
       "      <td>No Deposit</td>\n",
       "      <td>NaN</td>\n",
       "      <td>NaN</td>\n",
       "      <td>0</td>\n",
       "      <td>Transient</td>\n",
       "      <td>0.0</td>\n",
       "      <td>0</td>\n",
       "      <td>0</td>\n",
       "      <td>Check-Out</td>\n",
       "      <td>01/07/2015</td>\n",
       "    </tr>\n",
       "    <tr>\n",
       "      <th>1</th>\n",
       "      <td>Resort Hotel</td>\n",
       "      <td>0</td>\n",
       "      <td>737</td>\n",
       "      <td>2015</td>\n",
       "      <td>July</td>\n",
       "      <td>27</td>\n",
       "      <td>1</td>\n",
       "      <td>0</td>\n",
       "      <td>0</td>\n",
       "      <td>2</td>\n",
       "      <td>...</td>\n",
       "      <td>No Deposit</td>\n",
       "      <td>NaN</td>\n",
       "      <td>NaN</td>\n",
       "      <td>0</td>\n",
       "      <td>Transient</td>\n",
       "      <td>0.0</td>\n",
       "      <td>0</td>\n",
       "      <td>0</td>\n",
       "      <td>Check-Out</td>\n",
       "      <td>01/07/2015</td>\n",
       "    </tr>\n",
       "    <tr>\n",
       "      <th>2</th>\n",
       "      <td>Resort Hotel</td>\n",
       "      <td>0</td>\n",
       "      <td>7</td>\n",
       "      <td>2015</td>\n",
       "      <td>July</td>\n",
       "      <td>27</td>\n",
       "      <td>1</td>\n",
       "      <td>0</td>\n",
       "      <td>1</td>\n",
       "      <td>1</td>\n",
       "      <td>...</td>\n",
       "      <td>No Deposit</td>\n",
       "      <td>NaN</td>\n",
       "      <td>NaN</td>\n",
       "      <td>0</td>\n",
       "      <td>Transient</td>\n",
       "      <td>75.0</td>\n",
       "      <td>0</td>\n",
       "      <td>0</td>\n",
       "      <td>Check-Out</td>\n",
       "      <td>02/07/2015</td>\n",
       "    </tr>\n",
       "    <tr>\n",
       "      <th>3</th>\n",
       "      <td>Resort Hotel</td>\n",
       "      <td>0</td>\n",
       "      <td>13</td>\n",
       "      <td>2015</td>\n",
       "      <td>July</td>\n",
       "      <td>27</td>\n",
       "      <td>1</td>\n",
       "      <td>0</td>\n",
       "      <td>1</td>\n",
       "      <td>1</td>\n",
       "      <td>...</td>\n",
       "      <td>No Deposit</td>\n",
       "      <td>304.0</td>\n",
       "      <td>NaN</td>\n",
       "      <td>0</td>\n",
       "      <td>Transient</td>\n",
       "      <td>75.0</td>\n",
       "      <td>0</td>\n",
       "      <td>0</td>\n",
       "      <td>Check-Out</td>\n",
       "      <td>02/07/2015</td>\n",
       "    </tr>\n",
       "    <tr>\n",
       "      <th>4</th>\n",
       "      <td>Resort Hotel</td>\n",
       "      <td>0</td>\n",
       "      <td>14</td>\n",
       "      <td>2015</td>\n",
       "      <td>July</td>\n",
       "      <td>27</td>\n",
       "      <td>1</td>\n",
       "      <td>0</td>\n",
       "      <td>2</td>\n",
       "      <td>2</td>\n",
       "      <td>...</td>\n",
       "      <td>No Deposit</td>\n",
       "      <td>240.0</td>\n",
       "      <td>NaN</td>\n",
       "      <td>0</td>\n",
       "      <td>Transient</td>\n",
       "      <td>98.0</td>\n",
       "      <td>0</td>\n",
       "      <td>1</td>\n",
       "      <td>Check-Out</td>\n",
       "      <td>03/07/2015</td>\n",
       "    </tr>\n",
       "  </tbody>\n",
       "</table>\n",
       "<p>5 rows × 32 columns</p>\n",
       "</div>"
      ],
      "text/plain": [
       "          hotel  is_canceled  lead_time  arrival_date_year arrival_date_month  \\\n",
       "0  Resort Hotel            0        342               2015               July   \n",
       "1  Resort Hotel            0        737               2015               July   \n",
       "2  Resort Hotel            0          7               2015               July   \n",
       "3  Resort Hotel            0         13               2015               July   \n",
       "4  Resort Hotel            0         14               2015               July   \n",
       "\n",
       "   arrival_date_week_number  arrival_date_day_of_month  \\\n",
       "0                        27                          1   \n",
       "1                        27                          1   \n",
       "2                        27                          1   \n",
       "3                        27                          1   \n",
       "4                        27                          1   \n",
       "\n",
       "   stays_in_weekend_nights  stays_in_week_nights  adults  ...  deposit_type  \\\n",
       "0                        0                     0       2  ...    No Deposit   \n",
       "1                        0                     0       2  ...    No Deposit   \n",
       "2                        0                     1       1  ...    No Deposit   \n",
       "3                        0                     1       1  ...    No Deposit   \n",
       "4                        0                     2       2  ...    No Deposit   \n",
       "\n",
       "   agent company days_in_waiting_list customer_type   adr  \\\n",
       "0    NaN     NaN                    0     Transient   0.0   \n",
       "1    NaN     NaN                    0     Transient   0.0   \n",
       "2    NaN     NaN                    0     Transient  75.0   \n",
       "3  304.0     NaN                    0     Transient  75.0   \n",
       "4  240.0     NaN                    0     Transient  98.0   \n",
       "\n",
       "   required_car_parking_spaces  total_of_special_requests  reservation_status  \\\n",
       "0                            0                          0           Check-Out   \n",
       "1                            0                          0           Check-Out   \n",
       "2                            0                          0           Check-Out   \n",
       "3                            0                          0           Check-Out   \n",
       "4                            0                          1           Check-Out   \n",
       "\n",
       "  reservation_status_date  \n",
       "0              01/07/2015  \n",
       "1              01/07/2015  \n",
       "2              02/07/2015  \n",
       "3              02/07/2015  \n",
       "4              03/07/2015  \n",
       "\n",
       "[5 rows x 32 columns]"
      ]
     },
     "execution_count": 6,
     "metadata": {},
     "output_type": "execute_result"
    }
   ],
   "source": [
    "pm.head()"
   ]
  },
  {
   "cell_type": "code",
   "execution_count": 7,
   "metadata": {},
   "outputs": [
    {
     "data": {
      "text/plain": [
       "hotel                                  0\n",
       "is_canceled                            0\n",
       "lead_time                              0\n",
       "arrival_date_year                      0\n",
       "arrival_date_month                     0\n",
       "arrival_date_week_number               0\n",
       "arrival_date_day_of_month              0\n",
       "stays_in_weekend_nights                0\n",
       "stays_in_week_nights                   0\n",
       "adults                                 0\n",
       "children                               4\n",
       "babies                                 0\n",
       "meal                                   0\n",
       "country                              488\n",
       "market_segment                         0\n",
       "distribution_channel                   0\n",
       "is_repeated_guest                      0\n",
       "previous_cancellations                 0\n",
       "previous_bookings_not_canceled         0\n",
       "reserved_room_type                     0\n",
       "assigned_room_type                     0\n",
       "booking_changes                        0\n",
       "deposit_type                           0\n",
       "agent                              16340\n",
       "company                           112593\n",
       "days_in_waiting_list                   0\n",
       "customer_type                          0\n",
       "adr                                    0\n",
       "required_car_parking_spaces            0\n",
       "total_of_special_requests              0\n",
       "reservation_status                     0\n",
       "reservation_status_date                0\n",
       "dtype: int64"
      ]
     },
     "execution_count": 7,
     "metadata": {},
     "output_type": "execute_result"
    }
   ],
   "source": [
    "pm.isnull().sum()"
   ]
  },
  {
   "cell_type": "markdown",
   "metadata": {},
   "source": [
    "# 2)\tPrint the unique values in all columns"
   ]
  },
  {
   "cell_type": "code",
   "execution_count": 8,
   "metadata": {
    "scrolled": true
   },
   "outputs": [
    {
     "name": "stdout",
     "output_type": "stream",
     "text": [
      "hotel ['Resort Hotel' 'City Hotel']\n",
      "is_canceled [0 1]\n",
      "lead_time [342 737   7  13  14   0   9  85  75  23  35  68  18  37  12  72 127  78\n",
      "  48  60  77  99 118  95  96  69  45  40  15  36  43  70  16 107  47 113\n",
      "  90  50  93  76   3   1  10   5  17  51  71  63  62 101   2  81 368 364\n",
      " 324  79  21 109 102   4  98  92  26  73 115  86  52  29  30  33  32   8\n",
      " 100  44  80  97  64  39  34  27  82  94 110 111  84  66 104  28 258 112\n",
      "  65  67  55  88  54 292  83 105 280 394  24 103 366 249  22  91  11 108\n",
      " 106  31  87  41 304 117  59  53  58 116  42 321  38  56  49 317   6  57\n",
      "  19  25 315 123  46  89  61 312 299 130  74 298 119  20 286 136 129 124\n",
      " 327 131 460 140 114 139 122 137 126 120 128 135 150 143 151 132 125 157\n",
      " 147 138 156 164 346 159 160 161 333 381 149 154 297 163 314 155 323 340\n",
      " 356 142 328 144 336 248 302 175 344 382 146 170 166 338 167 310 148 165\n",
      " 172 171 145 121 178 305 173 152 354 347 158 185 349 183 352 177 200 192\n",
      " 361 207 174 330 134 350 334 283 153 197 133 241 193 235 194 261 260 216\n",
      " 169 209 238 215 141 189 187 223 284 214 202 211 168 230 203 188 232 709\n",
      " 219 162 196 190 259 228 176 250 201 186 199 180 206 205 224 222 182 210\n",
      " 275 212 229 218 208 191 181 179 246 255 226 288 253 252 262 236 256 234\n",
      " 254 468 213 237 198 195 239 263 265 274 217 220 307 221 233 257 227 276\n",
      " 225 264 311 277 204 290 266 270 294 319 282 251 322 291 269 240 271 184\n",
      " 231 268 247 273 300 301 267 244 306 293 309 272 242 295 285 243 308 398\n",
      " 303 245 424 279 331 281 339 434 357 325 329 278 332 343 345 360 348 367\n",
      " 353 373 374 406 400 326 379 399 316 341 320 385 355 363 358 296 422 390\n",
      " 335 370 376 375 397 289 542 403 383 384 359 393 337 362 365 435 386 378\n",
      " 313 351 287 471 462 411 450 318 372 371 454 532 445 389 388 407 443 437\n",
      " 451 391 405 412 419 420 426 433 440 429 418 447 461 605 457 475 464 482\n",
      " 626 489 496 503 510 517 524 531 538 545 552 559 566 573 580 587 594 601\n",
      " 608 615 622 629 396 410 395 423 408 409 448 465 387 414 476 479 467 490\n",
      " 493 478 504 507 458 518 521 377 444 380 463]\n",
      "arrival_date_year [2015 2016 2017]\n",
      "arrival_date_month ['July' 'August' 'September' 'October' 'November' 'December' 'January'\n",
      " 'February' 'March' 'April' 'May' 'June']\n",
      "arrival_date_week_number [27 28 29 30 31 32 33 34 35 36 37 38 39 40 41 42 43 44 45 46 47 48 49 50\n",
      " 51 52 53  1  2  3  4  5  6  7  8  9 10 11 12 13 14 15 16 17 18 19 20 21\n",
      " 22 23 24 25 26]\n",
      "arrival_date_day_of_month [ 1  2  3  4  5  6  7  8  9 10 11 12 13 14 15 16 17 18 19 20 21 22 23 24\n",
      " 25 26 27 28 29 30 31]\n",
      "stays_in_weekend_nights [ 0  1  2  4  3  6 13  8  5  7 12  9 16 18 19 10 14]\n",
      "stays_in_week_nights [ 0  1  2  3  4  5 10 11  8  6  7 15  9 12 33 20 14 16 21 13 30 19 24 40\n",
      " 22 42 50 25 17 32 26 18 34 35 41]\n",
      "adults [ 2  1  3  4 40 26 50 27 55  0 20  6  5 10]\n",
      "children [ 0.  1.  2. 10.  3. nan]\n",
      "babies [ 0  1  2 10  9]\n",
      "meal ['BB' 'FB' 'HB' 'SC' 'Undefined']\n",
      "country ['PRT' 'GBR' 'USA' 'ESP' 'IRL' 'FRA' nan 'ROU' 'NOR' 'OMN' 'ARG' 'POL'\n",
      " 'DEU' 'BEL' 'CHE' 'CN' 'GRC' 'ITA' 'NLD' 'DNK' 'RUS' 'SWE' 'AUS' 'EST'\n",
      " 'CZE' 'BRA' 'FIN' 'MOZ' 'BWA' 'LUX' 'SVN' 'ALB' 'IND' 'CHN' 'MEX' 'MAR'\n",
      " 'UKR' 'SMR' 'LVA' 'PRI' 'SRB' 'CHL' 'AUT' 'BLR' 'LTU' 'TUR' 'ZAF' 'AGO'\n",
      " 'ISR' 'CYM' 'ZMB' 'CPV' 'ZWE' 'DZA' 'KOR' 'CRI' 'HUN' 'ARE' 'TUN' 'JAM'\n",
      " 'HRV' 'HKG' 'IRN' 'GEO' 'AND' 'GIB' 'URY' 'JEY' 'CAF' 'CYP' 'COL' 'GGY'\n",
      " 'KWT' 'NGA' 'MDV' 'VEN' 'SVK' 'FJI' 'KAZ' 'PAK' 'IDN' 'LBN' 'PHL' 'SEN'\n",
      " 'SYC' 'AZE' 'BHR' 'NZL' 'THA' 'DOM' 'MKD' 'MYS' 'ARM' 'JPN' 'LKA' 'CUB'\n",
      " 'CMR' 'BIH' 'MUS' 'COM' 'SUR' 'UGA' 'BGR' 'CIV' 'JOR' 'SYR' 'SGP' 'BDI'\n",
      " 'SAU' 'VNM' 'PLW' 'QAT' 'EGY' 'PER' 'MLT' 'MWI' 'ECU' 'MDG' 'ISL' 'UZB'\n",
      " 'NPL' 'BHS' 'MAC' 'TGO' 'TWN' 'DJI' 'STP' 'KNA' 'ETH' 'IRQ' 'HND' 'RWA'\n",
      " 'KHM' 'MCO' 'BGD' 'IMN' 'TJK' 'NIC' 'BEN' 'VGB' 'TZA' 'GAB' 'GHA' 'TMP'\n",
      " 'GLP' 'KEN' 'LIE' 'GNB' 'MNE' 'UMI' 'MYT' 'FRO' 'MMR' 'PAN' 'BFA' 'LBY'\n",
      " 'MLI' 'NAM' 'BOL' 'PRY' 'BRB' 'ABW' 'AIA' 'SLV' 'DMA' 'PYF' 'GUY' 'LCA'\n",
      " 'ATA' 'GTM' 'ASM' 'MRT' 'NCL' 'KIR' 'SDN' 'ATF' 'SLE' 'LAO']\n",
      "market_segment ['Direct' 'Corporate' 'Online TA' 'Offline TA/TO' 'Complementary' 'Groups'\n",
      " 'Undefined' 'Aviation']\n",
      "distribution_channel ['Direct' 'Corporate' 'TA/TO' 'Undefined' 'GDS']\n",
      "is_repeated_guest [0 1]\n",
      "previous_cancellations [ 0  1  2  3 26 25 14  4 24 19  5 21  6 13 11]\n",
      "previous_bookings_not_canceled [ 0  1  2  3  4  5  6  7  8  9 10 11 12 13 14 15 16 17 18 20 21 22 23 24\n",
      " 25 27 28 29 30 19 26 31 32 33 34 35 36 37 38 39 40 41 42 43 44 45 46 47\n",
      " 48 49 50 51 52 53 54 55 56 57 58 59 60 61 62 63 64 65 66 67 68 69 70 71\n",
      " 72]\n",
      "reserved_room_type ['C' 'A' 'D' 'E' 'G' 'F' 'H' 'L' 'P' 'B']\n",
      "assigned_room_type ['C' 'A' 'D' 'E' 'G' 'F' 'I' 'B' 'H' 'P' 'L' 'K']\n",
      "booking_changes [ 3  4  0  1  2  5 17  6  8  7 10 16  9 13 12 20 14 15 11 21 18]\n",
      "deposit_type ['No Deposit' 'Refundable' 'Non Refund']\n",
      "agent [ nan 304. 240. 303.  15. 241.   8. 250. 115.   5. 175. 134. 156. 243.\n",
      " 242.   3. 105.  40. 147. 306. 184.  96.   2. 127.  95. 146.   9. 177.\n",
      "   6. 143. 244. 149. 167. 300. 171. 305.  67. 196. 152. 142. 261. 104.\n",
      "  36.  26.  29. 258. 110.  71. 181.  88. 251. 275.  69. 248. 208. 256.\n",
      " 314. 126. 281. 273. 253. 185. 330. 334. 328. 326. 321. 324. 313.  38.\n",
      " 155.  68. 335. 308. 332.  94. 348. 310. 339. 375.  66. 327. 387. 298.\n",
      "  91. 245. 385. 257. 393. 168. 405. 249. 315.  75. 128. 307.  11. 436.\n",
      "   1. 201. 183. 223. 368. 336. 291. 464. 411. 481.  10. 154. 468. 410.\n",
      " 390. 440. 495. 492. 493. 434.  57. 531. 420. 483. 526. 472. 429.  16.\n",
      " 446.  34.  78. 139. 252. 270.  47. 114. 301. 193. 182. 135. 350. 195.\n",
      " 352. 355. 159. 363. 384. 360. 331. 367.  64. 406. 163. 414. 333. 427.\n",
      " 431. 430. 426. 438. 433. 418. 441. 282. 432.  72. 450. 180. 454. 455.\n",
      "  59. 451. 254. 358. 469. 165. 467. 510. 337. 476. 502. 527. 479. 508.\n",
      " 535. 302. 497. 187.  13.   7.  27.  14.  22.  17.  28.  42.  20.  19.\n",
      "  45.  37.  61.  39.  21.  24.  41.  50.  30.  54.  52.  12.  44.  31.\n",
      "  83.  32.  63.  60.  55.  56.  89.  87. 118.  86.  85. 210. 214. 129.\n",
      " 179. 138. 174. 170. 153.  93. 151. 119.  35. 173.  58.  53. 133.  79.\n",
      " 235. 192. 191. 236. 162. 215. 157. 287. 132. 234.  98.  77. 103. 107.\n",
      " 262. 220. 121. 205. 378.  23. 296. 290. 229.  33. 286. 276. 425. 484.\n",
      " 323. 403. 219. 394. 509. 111. 423.   4.  70.  82.  81.  74.  92.  99.\n",
      "  90. 112. 117. 106. 148. 158. 144. 211. 213. 216. 232. 150. 267. 227.\n",
      " 247. 278. 280. 285. 289. 269. 295. 265. 288. 122. 294. 325. 341. 344.\n",
      " 346. 359. 283. 364. 370. 371.  25. 141. 391. 397. 416. 404. 299. 197.\n",
      "  73. 354. 444. 408. 461. 388. 453. 459. 474. 475. 480. 449.]\n",
      "company [ nan 110. 113. 270. 178. 240. 154. 144. 307. 268.  59. 204. 312. 318.\n",
      "  94. 174. 274. 195. 223. 317. 281. 118.  53. 286.  12.  47. 324. 342.\n",
      " 373. 371. 383.  86.  82. 218.  88.  31. 397. 392. 405. 331. 367.  20.\n",
      "  83. 416.  51. 395. 102.  34.  84. 360. 394. 457. 382. 461. 478. 386.\n",
      " 112. 486. 421.   9. 308. 135. 224. 504. 269. 356. 498. 390. 513. 203.\n",
      " 263. 477. 521. 169. 515. 445. 337. 251. 428. 292. 388. 130. 250. 355.\n",
      " 254. 543. 531. 528.  62. 120.  42.  81. 116. 530. 103.  39.  16.  92.\n",
      "  61. 501. 165. 291. 290.  43. 325. 192. 108. 200. 465. 287. 297. 490.\n",
      " 482. 207. 282. 437. 225. 329. 272.  28.  77. 338.  72. 246. 319. 146.\n",
      " 159. 380. 323. 511. 407. 278.  80. 403. 399.  14. 137. 343. 346. 347.\n",
      " 349. 289. 351. 353.  54.  99. 358. 361. 362. 366. 372. 365. 277. 109.\n",
      " 377. 379.  22. 378. 330. 364. 401. 232. 255. 384. 167. 212. 514. 391.\n",
      " 400. 376. 402. 396. 302. 398.   6. 370. 369. 409. 168. 104. 408. 413.\n",
      " 148.  10. 333. 419. 415. 424. 425. 423. 422. 435. 439. 442. 448. 443.\n",
      " 454. 444.  52. 459. 458. 456. 460. 447. 470. 466. 484. 184. 485.  32.\n",
      " 487. 491. 494. 193. 516. 496. 499.  29.  78. 520. 507. 506. 512. 126.\n",
      "  64. 242. 518. 523. 539. 534. 436. 525. 541.  40. 455. 410.  45.  38.\n",
      "  49.  48.  67.  68.  65.  91.  37.   8. 179. 209. 219. 221. 227. 153.\n",
      " 186. 253. 202. 216. 275. 233. 280. 309. 321.  93. 316.  85. 107. 350.\n",
      " 279. 334. 348. 150.  73. 385. 418. 197. 450. 452. 115.  46.  76.  96.\n",
      " 100. 105. 101. 122.  11. 139. 142. 127. 143. 140. 149. 163. 160. 180.\n",
      " 238. 183. 222. 185. 217. 215. 213. 237. 230. 234.  35. 245. 158. 258.\n",
      " 259. 260. 411. 257. 271.  18. 106. 210. 273.  71. 284. 301. 305. 293.\n",
      " 264. 311. 304. 313. 288. 320. 314. 332. 341. 352. 243. 368. 393. 132.\n",
      " 220. 412. 420. 426. 417. 429. 433. 446. 357. 479. 483. 489. 229. 481.\n",
      " 497. 451. 492.]\n",
      "days_in_waiting_list [  0  50  47  65 122  75 101 150 125  14  60  34 100  22 121  61  39   5\n",
      "   1   8 107  43  52   2  11 142 116  13  44  97  83   4 113  18  20 185\n",
      "  93 109   6  37 105 154  64  99  38  48  33  77  21  80  59  40  58  89\n",
      "  53  49  69  87  91  57 111  79  98  85  63  15   3  41 224  31  56 187\n",
      " 176  71  55  96 236 259 207 215 160 120  30  32  27  62  24 108 147 379\n",
      "  70  35 178 330 223 174 162 391  68 193  10  76  16  28   9 165  17  25\n",
      "  46   7  84 175 183  23 117  12  54  26  73  45  19  42  72  81  92  74\n",
      " 167  36]\n",
      "customer_type ['Transient' 'Contract' 'Transient-Party' 'Group']\n",
      "adr [  0.    75.    98.   ... 266.75 209.25 157.71]\n",
      "required_car_parking_spaces [0 1 2 8 3]\n",
      "total_of_special_requests [0 1 3 2 4 5]\n",
      "reservation_status ['Check-Out' 'Canceled' 'No-Show']\n",
      "reservation_status_date ['01/07/2015' '02/07/2015' '03/07/2015' '06/05/2015' '22/04/2015'\n",
      " '23/06/2015' '05/07/2015' '06/07/2015' '07/07/2015' '08/07/2015'\n",
      " '11/05/2015' '15/07/2015' '16/07/2015' '29/05/2015' '19/05/2015'\n",
      " '19/06/2015' '23/05/2015' '18/05/2015' '09/07/2015' '02/06/2015'\n",
      " '13/07/2015' '04/07/2015' '29/06/2015' '16/06/2015' '18/06/2015'\n",
      " '12/06/2015' '09/06/2015' '26/05/2015' '11/07/2015' '12/07/2015'\n",
      " '17/07/2015' '15/04/2015' '13/05/2015' '10/07/2015' '20/05/2015'\n",
      " '12/05/2015' '14/07/2015' '17/06/2015' '01/05/2015' '30/03/2015'\n",
      " '19/07/2015' '03/06/2015' '26/06/2015' '14/05/2015' '20/07/2015'\n",
      " '07/05/2015' '28/05/2015' '13/04/2015' '25/03/2015' '21/07/2015'\n",
      " '27/06/2015' '18/07/2015' '23/07/2015' '08/06/2015' '22/06/2015'\n",
      " '24/06/2015' '05/03/2015' '01/06/2015' '24/04/2015' '22/07/2015'\n",
      " '27/05/2015' '06/04/2015' '11/04/2015' '25/07/2015' '28/07/2015'\n",
      " '29/07/2015' '25/06/2015' '24/07/2015' '05/06/2015' '30/06/2015'\n",
      " '13/06/2015' '11/06/2015' '30/07/2015' '27/07/2015' '29/04/2015'\n",
      " '04/06/2015' '26/07/2015' '01/08/2015' '02/08/2015' '15/06/2015'\n",
      " '23/04/2015' '31/07/2015' '25/05/2015' '03/08/2015' '17/04/2015'\n",
      " '04/08/2015' '06/08/2015' '15/05/2015' '09/05/2015' '17/03/2015'\n",
      " '22/05/2015' '07/08/2015' '04/04/2015' '05/08/2015' '08/08/2015'\n",
      " '10/08/2015' '04/05/2015' '06/06/2015' '09/08/2015' '15/08/2015'\n",
      " '11/08/2015' '28/03/2015' '14/08/2015' '12/08/2015' '16/08/2015'\n",
      " '16/05/2015' '21/08/2015' '13/08/2015' '17/08/2015' '20/04/2015'\n",
      " '18/08/2015' '23/08/2015' '22/08/2015' '19/08/2015' '20/08/2015'\n",
      " '29/08/2015' '31/03/2015' '30/05/2015' '25/08/2015' '14/04/2015'\n",
      " '24/08/2015' '24/03/2015' '21/05/2015' '28/08/2015' '26/08/2015'\n",
      " '27/08/2015' '30/08/2015' '31/08/2015' '06/09/2015' '03/09/2015'\n",
      " '04/09/2015' '02/09/2015' '01/09/2015' '05/09/2015' '20/06/2015'\n",
      " '07/09/2015' '10/09/2015' '11/09/2015' '08/09/2015' '09/09/2015'\n",
      " '13/09/2015' '15/09/2015' '10/04/2015' '02/01/2015' '18/11/2014'\n",
      " '12/09/2015' '17/09/2015' '14/09/2015' '07/04/2015' '19/09/2015'\n",
      " '16/09/2015' '20/09/2015' '18/01/2015' '23/10/2015' '22/01/2015'\n",
      " '01/01/2015' '22/09/2015' '24/09/2015' '18/09/2015' '21/09/2015'\n",
      " '30/09/2015' '25/09/2015' '27/09/2015' '28/09/2015' '12/10/2015'\n",
      " '29/09/2015' '23/09/2015' '01/10/2015' '26/09/2015' '18/04/2015'\n",
      " '02/10/2015' '04/10/2015' '08/10/2015' '03/10/2015' '07/10/2015'\n",
      " '09/10/2015' '11/10/2015' '05/10/2015' '06/10/2015' '10/10/2015'\n",
      " '14/10/2015' '15/10/2015' '18/10/2015' '13/10/2015' '20/10/2015'\n",
      " '19/10/2015' '31/10/2015' '16/10/2015' '21/10/2015' '22/10/2015'\n",
      " '17/10/2015' '24/10/2015' '25/10/2015' '28/10/2015' '27/10/2015'\n",
      " '26/10/2015' '30/10/2015' '05/11/2015' '29/10/2015' '03/11/2015'\n",
      " '07/11/2015' '04/11/2015' '01/11/2015' '02/11/2015' '17/11/2015'\n",
      " '06/11/2015' '10/11/2015' '08/11/2015' '09/11/2015' '15/11/2015'\n",
      " '16/11/2015' '11/11/2015' '12/11/2015' '14/11/2015' '13/11/2015'\n",
      " '18/11/2015' '22/11/2015' '19/11/2015' '21/11/2015' '20/11/2015'\n",
      " '24/11/2015' '25/11/2015' '23/11/2015' '28/11/2015' '26/11/2015'\n",
      " '27/11/2015' '29/11/2015' '04/12/2015' '01/12/2015' '06/12/2015'\n",
      " '08/12/2015' '02/12/2015' '03/12/2015' '31/12/2015' '05/12/2015'\n",
      " '10/12/2015' '17/12/2015' '30/11/2015' '12/12/2015' '07/12/2015'\n",
      " '05/01/2016' '11/12/2015' '13/12/2015' '15/12/2015' '16/12/2015'\n",
      " '19/12/2015' '18/12/2015' '26/12/2015' '27/12/2015' '22/12/2015'\n",
      " '23/12/2015' '24/12/2015' '29/12/2015' '28/12/2015' '20/12/2015'\n",
      " '30/12/2015' '02/01/2016' '01/01/2016' '25/12/2015' '03/01/2016'\n",
      " '04/01/2016' '11/01/2016' '07/01/2016' '21/12/2015' '09/01/2016'\n",
      " '10/01/2016' '08/01/2016' '06/01/2016' '12/01/2016' '13/01/2016'\n",
      " '23/01/2016' '09/02/2016' '15/01/2016' '16/01/2016' '17/01/2016'\n",
      " '19/01/2016' '18/01/2016' '21/01/2016' '24/01/2016' '22/01/2016'\n",
      " '29/01/2016' '27/01/2016' '25/01/2016' '08/03/2016' '26/01/2016'\n",
      " '20/01/2016' '30/01/2016' '01/02/2016' '02/02/2016' '08/02/2016'\n",
      " '07/02/2016' '28/01/2016' '05/02/2016' '03/02/2016' '13/02/2016'\n",
      " '10/02/2016' '04/02/2016' '12/02/2016' '11/02/2016' '16/02/2016'\n",
      " '14/02/2016' '15/02/2016' '20/02/2016' '06/02/2016' '14/01/2016'\n",
      " '17/02/2016' '21/02/2016' '24/02/2016' '25/02/2016' '19/02/2016'\n",
      " '18/02/2016' '26/02/2016' '23/02/2016' '05/03/2016' '22/02/2016'\n",
      " '27/02/2016' '03/03/2016' '24/03/2016' '04/03/2016' '29/02/2016'\n",
      " '01/03/2016' '02/03/2016' '30/03/2016' '07/03/2016' '14/03/2016'\n",
      " '21/03/2016' '09/03/2016' '12/03/2016' '22/03/2016' '10/03/2016'\n",
      " '11/03/2016' '20/03/2016' '15/03/2016' '17/03/2016' '16/03/2016'\n",
      " '19/03/2016' '27/03/2016' '18/03/2016' '26/03/2016' '31/03/2016'\n",
      " '28/03/2016' '29/03/2016' '01/04/2016' '23/03/2016' '02/04/2016'\n",
      " '25/03/2016' '13/03/2016' '04/04/2016' '03/04/2016' '05/04/2016'\n",
      " '08/04/2016' '06/04/2016' '09/04/2016' '12/04/2016' '16/04/2016'\n",
      " '17/04/2016' '27/04/2016' '14/04/2016' '18/04/2016' '21/04/2016'\n",
      " '19/04/2016' '20/04/2016' '10/04/2016' '13/04/2016' '11/04/2016'\n",
      " '07/04/2016' '15/04/2016' '22/04/2016' '23/04/2016' '26/04/2016'\n",
      " '28/04/2016' '24/04/2016' '25/04/2016' '29/04/2016' '30/04/2016'\n",
      " '01/05/2016' '10/05/2016' '02/05/2016' '07/05/2016' '08/05/2016'\n",
      " '12/05/2016' '04/05/2016' '06/05/2016' '03/05/2016' '09/05/2016'\n",
      " '05/05/2016' '13/05/2016' '14/05/2016' '18/05/2016' '19/05/2016'\n",
      " '15/05/2016' '16/05/2016' '11/05/2016' '21/05/2016' '22/05/2016'\n",
      " '20/05/2016' '24/05/2016' '25/05/2016' '26/05/2016' '23/05/2016'\n",
      " '27/05/2016' '17/05/2016' '29/05/2016' '28/05/2016' '30/05/2016'\n",
      " '31/05/2016' '01/06/2016' '03/06/2016' '08/06/2016' '02/06/2016'\n",
      " '05/06/2016' '06/06/2016' '13/06/2016' '07/06/2016' '10/06/2016'\n",
      " '11/06/2016' '16/06/2016' '12/06/2016' '14/06/2016' '17/06/2016'\n",
      " '04/06/2016' '18/06/2016' '21/06/2016' '09/06/2016' '24/06/2016'\n",
      " '20/06/2016' '25/06/2016' '22/06/2016' '26/06/2016' '23/06/2016'\n",
      " '01/07/2016' '15/06/2016' '28/06/2016' '02/07/2016' '19/06/2016'\n",
      " '27/06/2016' '04/07/2016' '30/06/2016' '05/07/2016' '08/07/2016'\n",
      " '09/07/2016' '07/07/2016' '12/07/2016' '29/06/2016' '10/07/2016'\n",
      " '15/07/2016' '03/07/2016' '16/07/2016' '14/07/2016' '18/07/2016'\n",
      " '13/07/2016' '06/07/2016' '20/07/2016' '21/07/2016' '23/07/2016'\n",
      " '19/07/2016' '11/07/2016' '28/07/2016' '17/07/2016' '25/07/2016'\n",
      " '22/07/2016' '29/07/2016' '03/08/2016' '02/08/2016' '04/08/2016'\n",
      " '08/08/2016' '10/08/2016' '01/08/2016' '06/08/2016' '06/03/2016'\n",
      " '05/08/2016' '26/07/2016' '07/08/2016' '30/07/2016' '24/07/2016'\n",
      " '12/08/2016' '27/07/2016' '13/08/2016' '18/08/2016' '16/08/2016'\n",
      " '15/08/2016' '17/08/2016' '11/08/2016' '31/07/2016' '19/08/2016'\n",
      " '01/09/2016' '23/08/2016' '26/08/2016' '20/08/2016' '21/08/2016'\n",
      " '04/09/2016' '22/08/2016' '27/08/2016' '25/08/2016' '09/08/2016'\n",
      " '05/09/2016' '24/08/2016' '10/09/2016' '29/08/2016' '09/09/2016'\n",
      " '30/08/2016' '13/09/2016' '31/08/2016' '14/09/2016' '12/09/2016'\n",
      " '15/09/2016' '14/08/2016' '02/09/2016' '08/09/2016' '19/09/2016'\n",
      " '16/09/2016' '07/09/2016' '21/09/2016' '06/09/2016' '22/09/2016'\n",
      " '17/09/2016' '20/09/2016' '03/09/2016' '26/09/2016' '23/09/2016'\n",
      " '18/09/2016' '29/09/2016' '02/10/2016' '01/10/2016' '27/09/2016'\n",
      " '25/09/2016' '05/10/2016' '11/09/2016' '30/09/2016' '09/10/2016'\n",
      " '03/10/2016' '06/10/2016' '11/10/2016' '24/09/2016' '13/10/2016'\n",
      " '28/09/2016' '08/10/2016' '07/10/2016' '16/10/2016' '28/08/2016'\n",
      " '17/10/2016' '18/10/2016' '10/10/2016' '04/10/2016' '15/10/2016'\n",
      " '19/10/2016' '21/10/2016' '12/10/2016' '24/10/2016' '26/10/2016'\n",
      " '23/10/2016' '20/10/2016' '25/10/2016' '27/10/2016' '28/10/2016'\n",
      " '30/10/2016' '29/10/2016' '01/11/2016' '04/11/2016' '14/10/2016'\n",
      " '07/11/2016' '03/11/2016' '10/11/2016' '14/11/2016' '02/11/2016'\n",
      " '31/10/2016' '11/11/2016' '08/11/2016' '05/11/2016' '25/11/2016'\n",
      " '09/11/2016' '20/11/2016' '21/11/2016' '22/10/2016' '22/11/2016'\n",
      " '16/11/2016' '23/11/2016' '17/11/2016' '06/11/2016' '15/11/2016'\n",
      " '13/11/2016' '12/11/2016' '27/11/2016' '19/11/2016' '30/11/2016'\n",
      " '18/11/2016' '02/12/2016' '04/12/2016' '29/11/2016' '07/12/2016'\n",
      " '28/11/2016' '03/12/2016' '06/12/2016' '24/11/2016' '08/12/2016'\n",
      " '05/12/2016' '10/12/2016' '13/12/2016' '14/12/2016' '16/12/2016'\n",
      " '15/12/2016' '17/12/2016' '19/12/2016' '21/12/2016' '20/12/2016'\n",
      " '22/12/2016' '23/12/2016' '24/12/2016' '01/12/2016' '27/12/2016'\n",
      " '29/12/2016' '30/12/2016' '12/12/2016' '02/01/2017' '11/12/2016'\n",
      " '03/01/2017' '04/01/2017' '01/01/2017' '26/12/2016' '06/01/2017'\n",
      " '28/12/2016' '18/12/2016' '10/01/2017' '11/01/2017' '07/01/2017'\n",
      " '12/01/2017' '16/01/2017' '14/01/2017' '13/01/2017' '05/01/2017'\n",
      " '17/01/2017' '20/01/2017' '09/12/2016' '26/01/2017' '31/12/2016'\n",
      " '23/01/2017' '27/01/2017' '28/01/2017' '19/01/2017' '25/01/2017'\n",
      " '24/01/2017' '29/01/2017' '18/01/2017' '25/12/2016' '15/01/2017'\n",
      " '21/01/2017' '01/02/2017' '02/02/2017' '31/01/2017' '03/02/2017'\n",
      " '04/02/2017' '06/02/2017' '07/02/2017' '08/02/2017' '30/01/2017'\n",
      " '09/02/2017' '09/01/2017' '11/02/2017' '10/02/2017' '12/02/2017'\n",
      " '13/02/2017' '14/02/2017' '16/02/2017' '17/02/2017' '18/02/2017'\n",
      " '19/02/2017' '20/02/2017' '15/02/2017' '21/02/2017' '22/02/2017'\n",
      " '26/02/2017' '23/02/2017' '24/02/2017' '25/02/2017' '28/02/2017'\n",
      " '05/03/2017' '27/02/2017' '03/03/2017' '06/03/2017' '02/03/2017'\n",
      " '08/03/2017' '09/03/2017' '10/03/2017' '07/03/2017' '12/03/2017'\n",
      " '13/03/2017' '14/03/2017' '01/03/2017' '18/03/2017' '17/03/2017'\n",
      " '24/03/2017' '22/03/2017' '26/03/2017' '27/03/2017' '11/03/2017'\n",
      " '28/03/2017' '29/03/2017' '30/03/2017' '31/03/2017' '19/03/2017'\n",
      " '22/01/2017' '02/04/2017' '20/03/2017' '03/04/2017' '08/01/2017'\n",
      " '23/03/2017' '05/04/2017' '05/02/2017' '04/04/2017' '15/03/2017'\n",
      " '07/04/2017' '25/03/2017' '08/04/2017' '06/04/2017' '21/03/2017'\n",
      " '10/04/2017' '01/04/2017' '11/04/2017' '13/04/2017' '15/04/2017'\n",
      " '12/04/2017' '04/03/2017' '19/04/2017' '22/04/2017' '20/04/2017'\n",
      " '02/05/2017' '09/04/2017' '23/04/2017' '24/04/2017' '16/04/2017'\n",
      " '28/04/2017' '18/04/2017' '26/04/2017' '25/04/2017' '17/04/2017'\n",
      " '21/04/2017' '03/05/2017' '04/05/2017' '16/03/2017' '05/05/2017'\n",
      " '29/04/2017' '14/04/2017' '08/05/2017' '27/04/2017' '11/05/2017'\n",
      " '01/05/2017' '10/05/2017' '13/05/2017' '06/05/2017' '14/05/2017'\n",
      " '16/05/2017' '30/04/2017' '15/05/2017' '07/05/2017' '09/05/2017'\n",
      " '17/05/2017' '21/05/2017' '12/05/2017' '22/05/2017' '24/05/2017'\n",
      " '23/05/2017' '25/05/2017' '26/05/2017' '28/05/2017' '27/05/2017'\n",
      " '29/05/2017' '19/05/2017' '31/05/2017' '20/05/2017' '01/06/2017'\n",
      " '30/05/2017' '02/06/2017' '26/11/2016' '04/06/2017' '05/06/2017'\n",
      " '06/06/2017' '07/06/2017' '18/05/2017' '09/06/2017' '10/06/2017'\n",
      " '11/06/2017' '12/06/2017' '14/06/2017' '08/06/2017' '16/06/2017'\n",
      " '13/06/2017' '03/06/2017' '24/06/2017' '20/06/2017' '19/06/2017'\n",
      " '21/06/2017' '26/06/2017' '27/06/2017' '22/06/2017' '28/06/2017'\n",
      " '15/06/2017' '29/06/2017' '30/06/2017' '18/06/2017' '04/07/2017'\n",
      " '08/07/2017' '05/07/2017' '03/07/2017' '07/07/2017' '01/07/2017'\n",
      " '06/07/2017' '11/07/2017' '12/07/2017' '23/06/2017' '13/07/2017'\n",
      " '02/07/2017' '10/07/2017' '14/07/2017' '15/07/2017' '16/07/2017'\n",
      " '18/07/2017' '17/07/2017' '19/07/2017' '20/07/2017' '21/07/2017'\n",
      " '25/06/2017' '17/06/2017' '24/07/2017' '26/07/2017' '09/07/2017'\n",
      " '27/07/2017' '28/07/2017' '31/07/2017' '29/07/2017' '22/07/2017'\n",
      " '02/08/2017' '01/08/2017' '03/08/2017' '04/08/2017' '25/07/2017'\n",
      " '23/07/2017' '09/08/2017' '10/08/2017' '30/07/2017' '07/08/2017'\n",
      " '13/08/2017' '05/08/2017' '14/08/2017' '08/08/2017' '16/08/2017'\n",
      " '17/08/2017' '15/08/2017' '18/08/2017' '20/08/2017' '22/08/2017'\n",
      " '06/08/2017' '25/08/2017' '26/08/2017' '23/08/2017' '11/08/2017'\n",
      " '27/08/2017' '21/08/2017' '29/08/2017' '31/08/2017' '12/08/2017'\n",
      " '19/08/2017' '31/01/2016' '01/09/2017' '28/08/2017' '03/04/2015'\n",
      " '21/01/2015' '28/01/2015' '29/01/2015' '30/01/2015' '02/02/2015'\n",
      " '05/02/2015' '06/02/2015' '09/02/2015' '10/02/2015' '11/02/2015'\n",
      " '12/02/2015' '19/02/2015' '20/02/2015' '23/02/2015' '24/02/2015'\n",
      " '25/02/2015' '26/02/2015' '27/02/2015' '03/03/2015' '04/03/2015'\n",
      " '06/03/2015' '09/03/2015' '11/03/2015' '12/03/2015' '18/03/2015'\n",
      " '02/04/2015' '14/06/2015' '08/04/2015' '16/04/2015' '25/04/2015'\n",
      " '28/04/2015' '08/05/2015' '06/09/2017' '28/02/2016' '09/12/2015'\n",
      " '14/12/2015' '09/09/2017' '02/09/2017' '24/08/2017' '30/08/2017'\n",
      " '03/09/2017' '04/09/2017' '05/09/2017' '07/09/2017' '08/09/2017'\n",
      " '10/09/2017' '12/09/2017' '14/09/2017' '30/04/2015' '21/04/2015'\n",
      " '05/04/2015' '13/03/2015' '05/05/2015' '29/03/2015' '10/06/2015'\n",
      " '27/04/2015' '17/10/2014' '20/01/2015' '17/02/2015' '10/03/2015'\n",
      " '23/03/2015']\n"
     ]
    }
   ],
   "source": [
    "for col in pm.columns:\n",
    "    print(col,pm[col].unique())"
   ]
  },
  {
   "cell_type": "markdown",
   "metadata": {},
   "source": [
    "# 3)\tFill nan value in country with ‘other’"
   ]
  },
  {
   "cell_type": "code",
   "execution_count": 9,
   "metadata": {},
   "outputs": [],
   "source": [
    "pm['country'] = pm['country'].replace(np.nan, 'Others')"
   ]
  },
  {
   "cell_type": "code",
   "execution_count": 10,
   "metadata": {},
   "outputs": [
    {
     "data": {
      "text/plain": [
       "array(['PRT', 'GBR', 'USA', 'ESP', 'IRL', 'FRA', 'Others', 'ROU', 'NOR',\n",
       "       'OMN', 'ARG', 'POL', 'DEU', 'BEL', 'CHE', 'CN', 'GRC', 'ITA',\n",
       "       'NLD', 'DNK', 'RUS', 'SWE', 'AUS', 'EST', 'CZE', 'BRA', 'FIN',\n",
       "       'MOZ', 'BWA', 'LUX', 'SVN', 'ALB', 'IND', 'CHN', 'MEX', 'MAR',\n",
       "       'UKR', 'SMR', 'LVA', 'PRI', 'SRB', 'CHL', 'AUT', 'BLR', 'LTU',\n",
       "       'TUR', 'ZAF', 'AGO', 'ISR', 'CYM', 'ZMB', 'CPV', 'ZWE', 'DZA',\n",
       "       'KOR', 'CRI', 'HUN', 'ARE', 'TUN', 'JAM', 'HRV', 'HKG', 'IRN',\n",
       "       'GEO', 'AND', 'GIB', 'URY', 'JEY', 'CAF', 'CYP', 'COL', 'GGY',\n",
       "       'KWT', 'NGA', 'MDV', 'VEN', 'SVK', 'FJI', 'KAZ', 'PAK', 'IDN',\n",
       "       'LBN', 'PHL', 'SEN', 'SYC', 'AZE', 'BHR', 'NZL', 'THA', 'DOM',\n",
       "       'MKD', 'MYS', 'ARM', 'JPN', 'LKA', 'CUB', 'CMR', 'BIH', 'MUS',\n",
       "       'COM', 'SUR', 'UGA', 'BGR', 'CIV', 'JOR', 'SYR', 'SGP', 'BDI',\n",
       "       'SAU', 'VNM', 'PLW', 'QAT', 'EGY', 'PER', 'MLT', 'MWI', 'ECU',\n",
       "       'MDG', 'ISL', 'UZB', 'NPL', 'BHS', 'MAC', 'TGO', 'TWN', 'DJI',\n",
       "       'STP', 'KNA', 'ETH', 'IRQ', 'HND', 'RWA', 'KHM', 'MCO', 'BGD',\n",
       "       'IMN', 'TJK', 'NIC', 'BEN', 'VGB', 'TZA', 'GAB', 'GHA', 'TMP',\n",
       "       'GLP', 'KEN', 'LIE', 'GNB', 'MNE', 'UMI', 'MYT', 'FRO', 'MMR',\n",
       "       'PAN', 'BFA', 'LBY', 'MLI', 'NAM', 'BOL', 'PRY', 'BRB', 'ABW',\n",
       "       'AIA', 'SLV', 'DMA', 'PYF', 'GUY', 'LCA', 'ATA', 'GTM', 'ASM',\n",
       "       'MRT', 'NCL', 'KIR', 'SDN', 'ATF', 'SLE', 'LAO'], dtype=object)"
      ]
     },
     "execution_count": 10,
     "metadata": {},
     "output_type": "execute_result"
    }
   ],
   "source": [
    "pm['country'].unique()"
   ]
  },
  {
   "cell_type": "code",
   "execution_count": 11,
   "metadata": {},
   "outputs": [
    {
     "data": {
      "text/plain": [
       "hotel                                  0\n",
       "is_canceled                            0\n",
       "lead_time                              0\n",
       "arrival_date_year                      0\n",
       "arrival_date_month                     0\n",
       "arrival_date_week_number               0\n",
       "arrival_date_day_of_month              0\n",
       "stays_in_weekend_nights                0\n",
       "stays_in_week_nights                   0\n",
       "adults                                 0\n",
       "children                               4\n",
       "babies                                 0\n",
       "meal                                   0\n",
       "country                                0\n",
       "market_segment                         0\n",
       "distribution_channel                   0\n",
       "is_repeated_guest                      0\n",
       "previous_cancellations                 0\n",
       "previous_bookings_not_canceled         0\n",
       "reserved_room_type                     0\n",
       "assigned_room_type                     0\n",
       "booking_changes                        0\n",
       "deposit_type                           0\n",
       "agent                              16340\n",
       "company                           112593\n",
       "days_in_waiting_list                   0\n",
       "customer_type                          0\n",
       "adr                                    0\n",
       "required_car_parking_spaces            0\n",
       "total_of_special_requests              0\n",
       "reservation_status                     0\n",
       "reservation_status_date                0\n",
       "dtype: int64"
      ]
     },
     "execution_count": 11,
     "metadata": {},
     "output_type": "execute_result"
    }
   ],
   "source": [
    "pm.isnull().sum()"
   ]
  },
  {
   "cell_type": "code",
   "execution_count": 12,
   "metadata": {},
   "outputs": [
    {
     "data": {
      "text/plain": [
       "array([ nan, 304., 240., 303.,  15., 241.,   8., 250., 115.,   5., 175.,\n",
       "       134., 156., 243., 242.,   3., 105.,  40., 147., 306., 184.,  96.,\n",
       "         2., 127.,  95., 146.,   9., 177.,   6., 143., 244., 149., 167.,\n",
       "       300., 171., 305.,  67., 196., 152., 142., 261., 104.,  36.,  26.,\n",
       "        29., 258., 110.,  71., 181.,  88., 251., 275.,  69., 248., 208.,\n",
       "       256., 314., 126., 281., 273., 253., 185., 330., 334., 328., 326.,\n",
       "       321., 324., 313.,  38., 155.,  68., 335., 308., 332.,  94., 348.,\n",
       "       310., 339., 375.,  66., 327., 387., 298.,  91., 245., 385., 257.,\n",
       "       393., 168., 405., 249., 315.,  75., 128., 307.,  11., 436.,   1.,\n",
       "       201., 183., 223., 368., 336., 291., 464., 411., 481.,  10., 154.,\n",
       "       468., 410., 390., 440., 495., 492., 493., 434.,  57., 531., 420.,\n",
       "       483., 526., 472., 429.,  16., 446.,  34.,  78., 139., 252., 270.,\n",
       "        47., 114., 301., 193., 182., 135., 350., 195., 352., 355., 159.,\n",
       "       363., 384., 360., 331., 367.,  64., 406., 163., 414., 333., 427.,\n",
       "       431., 430., 426., 438., 433., 418., 441., 282., 432.,  72., 450.,\n",
       "       180., 454., 455.,  59., 451., 254., 358., 469., 165., 467., 510.,\n",
       "       337., 476., 502., 527., 479., 508., 535., 302., 497., 187.,  13.,\n",
       "         7.,  27.,  14.,  22.,  17.,  28.,  42.,  20.,  19.,  45.,  37.,\n",
       "        61.,  39.,  21.,  24.,  41.,  50.,  30.,  54.,  52.,  12.,  44.,\n",
       "        31.,  83.,  32.,  63.,  60.,  55.,  56.,  89.,  87., 118.,  86.,\n",
       "        85., 210., 214., 129., 179., 138., 174., 170., 153.,  93., 151.,\n",
       "       119.,  35., 173.,  58.,  53., 133.,  79., 235., 192., 191., 236.,\n",
       "       162., 215., 157., 287., 132., 234.,  98.,  77., 103., 107., 262.,\n",
       "       220., 121., 205., 378.,  23., 296., 290., 229.,  33., 286., 276.,\n",
       "       425., 484., 323., 403., 219., 394., 509., 111., 423.,   4.,  70.,\n",
       "        82.,  81.,  74.,  92.,  99.,  90., 112., 117., 106., 148., 158.,\n",
       "       144., 211., 213., 216., 232., 150., 267., 227., 247., 278., 280.,\n",
       "       285., 289., 269., 295., 265., 288., 122., 294., 325., 341., 344.,\n",
       "       346., 359., 283., 364., 370., 371.,  25., 141., 391., 397., 416.,\n",
       "       404., 299., 197.,  73., 354., 444., 408., 461., 388., 453., 459.,\n",
       "       474., 475., 480., 449.])"
      ]
     },
     "execution_count": 12,
     "metadata": {},
     "output_type": "execute_result"
    }
   ],
   "source": [
    "pm['agent'].unique()"
   ]
  },
  {
   "cell_type": "markdown",
   "metadata": {},
   "source": [
    "# 4)\tFill nan in agent with mean of agent columns"
   ]
  },
  {
   "cell_type": "code",
   "execution_count": 13,
   "metadata": {},
   "outputs": [],
   "source": [
    "pm['agent'] = pm['agent'].replace(np.nan, pm['agent'].mean())"
   ]
  },
  {
   "cell_type": "code",
   "execution_count": 14,
   "metadata": {},
   "outputs": [
    {
     "data": {
      "text/plain": [
       "hotel                                  0\n",
       "is_canceled                            0\n",
       "lead_time                              0\n",
       "arrival_date_year                      0\n",
       "arrival_date_month                     0\n",
       "arrival_date_week_number               0\n",
       "arrival_date_day_of_month              0\n",
       "stays_in_weekend_nights                0\n",
       "stays_in_week_nights                   0\n",
       "adults                                 0\n",
       "children                               4\n",
       "babies                                 0\n",
       "meal                                   0\n",
       "country                                0\n",
       "market_segment                         0\n",
       "distribution_channel                   0\n",
       "is_repeated_guest                      0\n",
       "previous_cancellations                 0\n",
       "previous_bookings_not_canceled         0\n",
       "reserved_room_type                     0\n",
       "assigned_room_type                     0\n",
       "booking_changes                        0\n",
       "deposit_type                           0\n",
       "agent                                  0\n",
       "company                           112593\n",
       "days_in_waiting_list                   0\n",
       "customer_type                          0\n",
       "adr                                    0\n",
       "required_car_parking_spaces            0\n",
       "total_of_special_requests              0\n",
       "reservation_status                     0\n",
       "reservation_status_date                0\n",
       "dtype: int64"
      ]
     },
     "execution_count": 14,
     "metadata": {},
     "output_type": "execute_result"
    }
   ],
   "source": [
    "pm.isnull().sum()"
   ]
  },
  {
   "cell_type": "code",
   "execution_count": 15,
   "metadata": {},
   "outputs": [],
   "source": [
    "pm['company'] = pm['company'].replace(np.nan, pm['company'].mean())"
   ]
  },
  {
   "cell_type": "code",
   "execution_count": 16,
   "metadata": {},
   "outputs": [
    {
     "data": {
      "text/plain": [
       "hotel                             0\n",
       "is_canceled                       0\n",
       "lead_time                         0\n",
       "arrival_date_year                 0\n",
       "arrival_date_month                0\n",
       "arrival_date_week_number          0\n",
       "arrival_date_day_of_month         0\n",
       "stays_in_weekend_nights           0\n",
       "stays_in_week_nights              0\n",
       "adults                            0\n",
       "children                          4\n",
       "babies                            0\n",
       "meal                              0\n",
       "country                           0\n",
       "market_segment                    0\n",
       "distribution_channel              0\n",
       "is_repeated_guest                 0\n",
       "previous_cancellations            0\n",
       "previous_bookings_not_canceled    0\n",
       "reserved_room_type                0\n",
       "assigned_room_type                0\n",
       "booking_changes                   0\n",
       "deposit_type                      0\n",
       "agent                             0\n",
       "company                           0\n",
       "days_in_waiting_list              0\n",
       "customer_type                     0\n",
       "adr                               0\n",
       "required_car_parking_spaces       0\n",
       "total_of_special_requests         0\n",
       "reservation_status                0\n",
       "reservation_status_date           0\n",
       "dtype: int64"
      ]
     },
     "execution_count": 16,
     "metadata": {},
     "output_type": "execute_result"
    }
   ],
   "source": [
    "pm.isnull().sum()"
   ]
  },
  {
   "cell_type": "markdown",
   "metadata": {},
   "source": [
    "# 5)\tDrop all the remaining null values"
   ]
  },
  {
   "cell_type": "code",
   "execution_count": 18,
   "metadata": {},
   "outputs": [],
   "source": [
    "pm = pm.dropna()"
   ]
  },
  {
   "cell_type": "code",
   "execution_count": 20,
   "metadata": {},
   "outputs": [
    {
     "data": {
      "text/plain": [
       "hotel                             False\n",
       "is_canceled                       False\n",
       "lead_time                         False\n",
       "arrival_date_year                 False\n",
       "arrival_date_month                False\n",
       "arrival_date_week_number          False\n",
       "arrival_date_day_of_month         False\n",
       "stays_in_weekend_nights           False\n",
       "stays_in_week_nights              False\n",
       "adults                            False\n",
       "children                          False\n",
       "babies                            False\n",
       "meal                              False\n",
       "country                           False\n",
       "market_segment                    False\n",
       "distribution_channel              False\n",
       "is_repeated_guest                 False\n",
       "previous_cancellations            False\n",
       "previous_bookings_not_canceled    False\n",
       "reserved_room_type                False\n",
       "assigned_room_type                False\n",
       "booking_changes                   False\n",
       "deposit_type                      False\n",
       "agent                             False\n",
       "company                           False\n",
       "days_in_waiting_list              False\n",
       "customer_type                     False\n",
       "adr                               False\n",
       "required_car_parking_spaces       False\n",
       "total_of_special_requests         False\n",
       "reservation_status                False\n",
       "reservation_status_date           False\n",
       "dtype: bool"
      ]
     },
     "execution_count": 20,
     "metadata": {},
     "output_type": "execute_result"
    }
   ],
   "source": [
    "pm.isnull().any()"
   ]
  },
  {
   "cell_type": "markdown",
   "metadata": {},
   "source": [
    "# 6)\tPlot the count of adult and children with help of a  bar plot"
   ]
  },
  {
   "cell_type": "code",
   "execution_count": 21,
   "metadata": {},
   "outputs": [
    {
     "data": {
      "text/plain": [
       "<Axes: xlabel='adults'>"
      ]
     },
     "execution_count": 21,
     "metadata": {},
     "output_type": "execute_result"
    },
    {
     "data": {
      "image/png": "[encoded data removed]",
      "text/plain": [
       "<Figure size 640x480 with 1 Axes>"
      ]
     },
     "metadata": {},
     "output_type": "display_data"
    }
   ],
   "source": [
    "pm['adults'].value_counts().plot(kind = 'bar')"
   ]
  },
  {
   "cell_type": "code",
   "execution_count": 22,
   "metadata": {},
   "outputs": [
    {
     "data": {
      "text/plain": [
       "<Axes: xlabel='children'>"
      ]
     },
     "execution_count": 22,
     "metadata": {},
     "output_type": "execute_result"
    },
    {
     "data": {
      "image/png": "[encoded data removed]",
      "text/plain": [
       "<Figure size 640x480 with 1 Axes>"
      ]
     },
     "metadata": {},
     "output_type": "display_data"
    }
   ],
   "source": [
    "pm['children'].value_counts().plot(kind = 'bar')"
   ]
  },
  {
   "cell_type": "code",
   "execution_count": 23,
   "metadata": {},
   "outputs": [
    {
     "data": {
      "text/plain": [
       "<Axes: xlabel='hotel'>"
      ]
     },
     "execution_count": 23,
     "metadata": {},
     "output_type": "execute_result"
    },
    {
     "data": {
      "image/png": "[encoded data removed]",
      "text/plain": [
       "<Figure size 640x480 with 1 Axes>"
      ]
     },
     "metadata": {},
     "output_type": "display_data"
    }
   ],
   "source": [
    "pm['hotel'].value_counts().plot(kind = 'bar')"
   ]
  },
  {
   "cell_type": "code",
   "execution_count": 31,
   "metadata": {},
   "outputs": [
    {
     "data": {
      "text/plain": [
       "<Axes: ylabel='count'>"
      ]
     },
     "execution_count": 31,
     "metadata": {},
     "output_type": "execute_result"
    },
    {
     "data": {
      "image/png": "[encoded data removed]",
      "text/plain": [
       "<Figure size 640x480 with 1 Axes>"
      ]
     },
     "metadata": {},
     "output_type": "display_data"
    }
   ],
   "source": [
    "pm['country'].value_counts().plot(kind = 'pie')"
   ]
  },
  {
   "cell_type": "code",
   "execution_count": null,
   "metadata": {},
   "outputs": [],
   "source": []
  },
  {
   "cell_type": "code",
   "execution_count": 33,
   "metadata": {},
   "outputs": [
    {
     "name": "stdout",
     "output_type": "stream",
     "text": [
      "<class 'pandas.core.frame.DataFrame'>\n",
      "Index: 119386 entries, 0 to 119389\n",
      "Data columns (total 32 columns):\n",
      " #   Column                          Non-Null Count   Dtype  \n",
      "---  ------                          --------------   -----  \n",
      " 0   hotel                           119386 non-null  object \n",
      " 1   is_canceled                     119386 non-null  int64  \n",
      " 2   lead_time                       119386 non-null  int64  \n",
      " 3   arrival_date_year               119386 non-null  int64  \n",
      " 4   arrival_date_month              119386 non-null  object \n",
      " 5   arrival_date_week_number        119386 non-null  int64  \n",
      " 6   arrival_date_day_of_month       119386 non-null  int64  \n",
      " 7   stays_in_weekend_nights         119386 non-null  int64  \n",
      " 8   stays_in_week_nights            119386 non-null  int64  \n",
      " 9   adults                          119386 non-null  int64  \n",
      " 10  children                        119386 non-null  float64\n",
      " 11  babies                          119386 non-null  int64  \n",
      " 12  meal                            119386 non-null  object \n",
      " 13  country                         119386 non-null  object \n",
      " 14  market_segment                  119386 non-null  object \n",
      " 15  distribution_channel            119386 non-null  object \n",
      " 16  is_repeated_guest               119386 non-null  int64  \n",
      " 17  previous_cancellations          119386 non-null  int64  \n",
      " 18  previous_bookings_not_canceled  119386 non-null  int64  \n",
      " 19  reserved_room_type              119386 non-null  object \n",
      " 20  assigned_room_type              119386 non-null  object \n",
      " 21  booking_changes                 119386 non-null  int64  \n",
      " 22  deposit_type                    119386 non-null  object \n",
      " 23  agent                           119386 non-null  float64\n",
      " 24  company                         119386 non-null  float64\n",
      " 25  days_in_waiting_list            119386 non-null  int64  \n",
      " 26  customer_type                   119386 non-null  object \n",
      " 27  adr                             119386 non-null  float64\n",
      " 28  required_car_parking_spaces     119386 non-null  int64  \n",
      " 29  total_of_special_requests       119386 non-null  int64  \n",
      " 30  reservation_status              119386 non-null  object \n",
      " 31  reservation_status_date         119386 non-null  object \n",
      "dtypes: float64(4), int64(16), object(12)\n",
      "memory usage: 30.1+ MB\n"
     ]
    }
   ],
   "source": [
    "pm.info()"
   ]
  },
  {
   "cell_type": "code",
   "execution_count": 34,
   "metadata": {},
   "outputs": [],
   "source": [
    "pm = pm.drop('reservation_status_date' , axis = 1 )                                        "
   ]
  },
  {
   "cell_type": "code",
   "execution_count": 35,
   "metadata": {},
   "outputs": [
    {
     "data": {
      "text/plain": [
       "Index(['hotel', 'is_canceled', 'lead_time', 'arrival_date_year',\n",
       "       'arrival_date_month', 'arrival_date_week_number',\n",
       "       'arrival_date_day_of_month', 'stays_in_weekend_nights',\n",
       "       'stays_in_week_nights', 'adults', 'children', 'babies', 'meal',\n",
       "       'country', 'market_segment', 'distribution_channel',\n",
       "       'is_repeated_guest', 'previous_cancellations',\n",
       "       'previous_bookings_not_canceled', 'reserved_room_type',\n",
       "       'assigned_room_type', 'booking_changes', 'deposit_type', 'agent',\n",
       "       'company', 'days_in_waiting_list', 'customer_type', 'adr',\n",
       "       'required_car_parking_spaces', 'total_of_special_requests',\n",
       "       'reservation_status'],\n",
       "      dtype='object')"
      ]
     },
     "execution_count": 35,
     "metadata": {},
     "output_type": "execute_result"
    }
   ],
   "source": [
    "pm.columns"
   ]
  },
  {
   "cell_type": "markdown",
   "metadata": {},
   "source": [
    "# 7)\tPerform Label encoding on categorical columns"
   ]
  },
  {
   "cell_type": "code",
   "execution_count": 40,
   "metadata": {},
   "outputs": [],
   "source": [
    "from sklearn.preprocessing import LabelEncoder"
   ]
  },
  {
   "cell_type": "code",
   "execution_count": 41,
   "metadata": {},
   "outputs": [],
   "source": [
    "enc = LabelEncoder()"
   ]
  },
  {
   "cell_type": "code",
   "execution_count": 42,
   "metadata": {},
   "outputs": [],
   "source": [
    "pm['hotel'] = enc.fit_transform(pm['hotel'])"
   ]
  },
  {
   "cell_type": "code",
   "execution_count": 43,
   "metadata": {},
   "outputs": [],
   "source": [
    "pm['country'] = enc.fit_transform(pm['country'])\n",
    "pm['hotel'] = enc.fit_transform(pm['hotel'])\n",
    "pm['market_segment'] = enc.fit_transform(pm['market_segment'])\n",
    "pm['distribution_channel'] = enc.fit_transform(pm['distribution_channel'])\n",
    "pm['meal'] = enc.fit_transform(pm['meal'])\n",
    "pm['reserved_room_type'] = enc.fit_transform(pm['reserved_room_type'])\n",
    "pm['assigned_room_type'] = enc.fit_transform(pm['assigned_room_type'])\n",
    "pm['deposit_type'] = enc.fit_transform(pm['deposit_type'])\n",
    "pm['customer_type'] = enc.fit_transform(pm['customer_type'])\n",
    "pm['reservation_status'] = enc.fit_transform(pm['reservation_status'])\n"
   ]
  },
  {
   "cell_type": "code",
   "execution_count": 44,
   "metadata": {},
   "outputs": [
    {
     "name": "stdout",
     "output_type": "stream",
     "text": [
      "<class 'pandas.core.frame.DataFrame'>\n",
      "Index: 119386 entries, 0 to 119389\n",
      "Data columns (total 31 columns):\n",
      " #   Column                          Non-Null Count   Dtype  \n",
      "---  ------                          --------------   -----  \n",
      " 0   hotel                           119386 non-null  int64  \n",
      " 1   is_canceled                     119386 non-null  int64  \n",
      " 2   lead_time                       119386 non-null  int64  \n",
      " 3   arrival_date_year               119386 non-null  int64  \n",
      " 4   arrival_date_month              119386 non-null  object \n",
      " 5   arrival_date_week_number        119386 non-null  int64  \n",
      " 6   arrival_date_day_of_month       119386 non-null  int64  \n",
      " 7   stays_in_weekend_nights         119386 non-null  int64  \n",
      " 8   stays_in_week_nights            119386 non-null  int64  \n",
      " 9   adults                          119386 non-null  int64  \n",
      " 10  children                        119386 non-null  float64\n",
      " 11  babies                          119386 non-null  int64  \n",
      " 12  meal                            119386 non-null  int32  \n",
      " 13  country                         119386 non-null  int32  \n",
      " 14  market_segment                  119386 non-null  int32  \n",
      " 15  distribution_channel            119386 non-null  int32  \n",
      " 16  is_repeated_guest               119386 non-null  int64  \n",
      " 17  previous_cancellations          119386 non-null  int64  \n",
      " 18  previous_bookings_not_canceled  119386 non-null  int64  \n",
      " 19  reserved_room_type              119386 non-null  int32  \n",
      " 20  assigned_room_type              119386 non-null  int32  \n",
      " 21  booking_changes                 119386 non-null  int64  \n",
      " 22  deposit_type                    119386 non-null  int32  \n",
      " 23  agent                           119386 non-null  float64\n",
      " 24  company                         119386 non-null  float64\n",
      " 25  days_in_waiting_list            119386 non-null  int64  \n",
      " 26  customer_type                   119386 non-null  int32  \n",
      " 27  adr                             119386 non-null  float64\n",
      " 28  required_car_parking_spaces     119386 non-null  int64  \n",
      " 29  total_of_special_requests       119386 non-null  int64  \n",
      " 30  reservation_status              119386 non-null  int32  \n",
      "dtypes: float64(4), int32(9), int64(17), object(1)\n",
      "memory usage: 25.0+ MB\n"
     ]
    }
   ],
   "source": [
    "pm.info()"
   ]
  },
  {
   "cell_type": "code",
   "execution_count": 45,
   "metadata": {},
   "outputs": [],
   "source": [
    "pm['arrival_date_month'] = enc.fit_transform(pm['arrival_date_month'])\n"
   ]
  },
  {
   "cell_type": "code",
   "execution_count": 37,
   "metadata": {},
   "outputs": [
    {
     "name": "stdout",
     "output_type": "stream",
     "text": [
      "<class 'pandas.core.frame.DataFrame'>\n",
      "Index: 119386 entries, 0 to 119389\n",
      "Data columns (total 31 columns):\n",
      " #   Column                          Non-Null Count   Dtype  \n",
      "---  ------                          --------------   -----  \n",
      " 0   hotel                           119386 non-null  object \n",
      " 1   is_canceled                     119386 non-null  int64  \n",
      " 2   lead_time                       119386 non-null  int64  \n",
      " 3   arrival_date_year               119386 non-null  int64  \n",
      " 4   arrival_date_month              119386 non-null  object \n",
      " 5   arrival_date_week_number        119386 non-null  int64  \n",
      " 6   arrival_date_day_of_month       119386 non-null  int64  \n",
      " 7   stays_in_weekend_nights         119386 non-null  int64  \n",
      " 8   stays_in_week_nights            119386 non-null  int64  \n",
      " 9   adults                          119386 non-null  int64  \n",
      " 10  children                        119386 non-null  float64\n",
      " 11  babies                          119386 non-null  int64  \n",
      " 12  meal                            119386 non-null  object \n",
      " 13  country                         119386 non-null  object \n",
      " 14  market_segment                  119386 non-null  object \n",
      " 15  distribution_channel            119386 non-null  object \n",
      " 16  is_repeated_guest               119386 non-null  int64  \n",
      " 17  previous_cancellations          119386 non-null  int64  \n",
      " 18  previous_bookings_not_canceled  119386 non-null  int64  \n",
      " 19  reserved_room_type              119386 non-null  object \n",
      " 20  assigned_room_type              119386 non-null  object \n",
      " 21  booking_changes                 119386 non-null  int64  \n",
      " 22  deposit_type                    119386 non-null  object \n",
      " 23  agent                           119386 non-null  float64\n",
      " 24  company                         119386 non-null  float64\n",
      " 25  days_in_waiting_list            119386 non-null  int64  \n",
      " 26  customer_type                   119386 non-null  object \n",
      " 27  adr                             119386 non-null  float64\n",
      " 28  required_car_parking_spaces     119386 non-null  int64  \n",
      " 29  total_of_special_requests       119386 non-null  int64  \n",
      " 30  reservation_status              119386 non-null  object \n",
      "dtypes: float64(4), int64(16), object(11)\n",
      "memory usage: 29.1+ MB\n"
     ]
    }
   ],
   "source": [
    "pm.info()"
   ]
  },
  {
   "cell_type": "markdown",
   "metadata": {},
   "source": [
    "# model Building"
   ]
  },
  {
   "cell_type": "code",
   "execution_count": 46,
   "metadata": {},
   "outputs": [],
   "source": [
    "from sklearn.model_selection import train_test_split"
   ]
  },
  {
   "cell_type": "markdown",
   "metadata": {},
   "source": [
    "# 1.\tCreate features and target data"
   ]
  },
  {
   "cell_type": "code",
   "execution_count": 47,
   "metadata": {},
   "outputs": [],
   "source": [
    "X = pm.drop('is_canceled',axis=1)\n",
    "y = pm.is_canceled"
   ]
  },
  {
   "cell_type": "markdown",
   "metadata": {},
   "source": [
    "# 2.\tSplit into training & testing"
   ]
  },
  {
   "cell_type": "code",
   "execution_count": 48,
   "metadata": {},
   "outputs": [],
   "source": [
    "X_train,X_test,y_train,y_test = train_test_split(X,y,test_size = 0.3)"
   ]
  },
  {
   "cell_type": "code",
   "execution_count": 31,
   "metadata": {},
   "outputs": [
    {
     "data": {
      "text/plain": [
       "(83570, 30)"
      ]
     },
     "execution_count": 31,
     "metadata": {},
     "output_type": "execute_result"
    }
   ],
   "source": [
    "X_train.shape"
   ]
  },
  {
   "cell_type": "code",
   "execution_count": 32,
   "metadata": {},
   "outputs": [
    {
     "data": {
      "text/plain": [
       "(35816, 30)"
      ]
     },
     "execution_count": 32,
     "metadata": {},
     "output_type": "execute_result"
    }
   ],
   "source": [
    "X_test.shape"
   ]
  },
  {
   "cell_type": "markdown",
   "metadata": {},
   "source": [
    "# 3.\tApply Random forest classifier on data"
   ]
  },
  {
   "cell_type": "code",
   "execution_count": 33,
   "metadata": {},
   "outputs": [],
   "source": [
    "from sklearn.ensemble import RandomForestClassifier\n",
    "\n",
    "params_rf = {'max_depth': 16,\n",
    "             'min_samples_leaf': 1,\n",
    "             'min_samples_split': 2,\n",
    "             'n_estimators': 100,\n",
    "             'random_state': 12345}\n",
    "\n",
    "model_rf = RandomForestClassifier(**params_rf)"
   ]
  },
  {
   "cell_type": "code",
   "execution_count": 34,
   "metadata": {},
   "outputs": [],
   "source": [
    "from sklearn.metrics import accuracy_score,confusion_matrix,classification_report,precision_score,recall_score"
   ]
  },
  {
   "cell_type": "markdown",
   "metadata": {},
   "source": [
    "# 4.\tCreate function which show Precision score, recall score, accuracy, classification report and confusion matrix."
   ]
  },
  {
   "cell_type": "code",
   "execution_count": 35,
   "metadata": {},
   "outputs": [],
   "source": [
    "def run_model(model, X_train, y_train, X_test, y_test):\n",
    "    model.fit(X_train,y_train.ravel())\n",
    "    y_pred = model.predict(X_test)\n",
    "    accuracy = accuracy_score(y_test, y_pred)\n",
    "    print(\"pricison_score: \",precision_score(y_test, y_pred))\n",
    "    print(\"recall_score: \",recall_score(y_test, y_pred))\n",
    "    print(\"Accuracy = {}\".format(accuracy))\n",
    "    print(classification_report(y_test,y_pred,digits=5))\n",
    "    print(confusion_matrix(y_test,y_pred))\n",
    "    "
   ]
  },
  {
   "cell_type": "code",
   "execution_count": null,
   "metadata": {},
   "outputs": [],
   "source": []
  },
  {
   "cell_type": "code",
   "execution_count": 36,
   "metadata": {},
   "outputs": [
    {
     "name": "stdout",
     "output_type": "stream",
     "text": [
      "pricison_score:  1.0\n",
      "recall_score:  0.9999244712990937\n",
      "Accuracy = 0.9999720795175341\n",
      "              precision    recall  f1-score   support\n",
      "\n",
      "           0    0.99996   1.00000   0.99998     22576\n",
      "           1    1.00000   0.99992   0.99996     13240\n",
      "\n",
      "    accuracy                        0.99997     35816\n",
      "   macro avg    0.99998   0.99996   0.99997     35816\n",
      "weighted avg    0.99997   0.99997   0.99997     35816\n",
      "\n",
      "[[22576     0]\n",
      " [    1 13239]]\n"
     ]
    }
   ],
   "source": [
    "run_model(model_rf,X_train, y_train, X_test, y_test)"
   ]
  },
  {
   "cell_type": "code",
   "execution_count": null,
   "metadata": {},
   "outputs": [],
   "source": []
  },
  {
   "cell_type": "code",
   "execution_count": null,
   "metadata": {},
   "outputs": [],
   "source": []
  }
 ],
 "metadata": {
  "kernelspec": {
   "display_name": "Python 3 (ipykernel)",
   "language": "python",
   "name": "python3"
  },
  "language_info": {
   "codemirror_mode": {
    "name": "ipython",
    "version": 3
   },
   "file_extension": ".py",
   "mimetype": "text/x-python",
   "name": "python",
   "nbconvert_exporter": "python",
   "pygments_lexer": "ipython3",
   "version": "3.11.7"
  }
 },
 "nbformat": 4,
 "nbformat_minor": 4
}
